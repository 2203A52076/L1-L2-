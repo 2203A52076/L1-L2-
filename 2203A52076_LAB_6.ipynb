{
  "nbformat": 4,
  "nbformat_minor": 0,
  "metadata": {
    "colab": {
      "provenance": []
    },
    "kernelspec": {
      "name": "python3",
      "display_name": "Python 3"
    },
    "language_info": {
      "name": "python"
    }
  },
  "cells": [
    {
      "cell_type": "code",
      "execution_count": 15,
      "metadata": {
        "colab": {
          "base_uri": "https://localhost:8080/"
        },
        "id": "fRjkIQkw073a",
        "outputId": "1880de3b-d0b5-4e93-f6ef-17f083581893"
      },
      "outputs": [
        {
          "output_type": "stream",
          "name": "stdout",
          "text": [
            "Mean Squared Error: 0.5856483017218522\n"
          ]
        }
      ],
      "source": [
        "import numpy as np\n",
        "import pandas as pd\n",
        "import matplotlib.pyplot as plt\n",
        "from sklearn.preprocessing import MinMaxScaler\n",
        "from sklearn.model_selection import train_test_split\n",
        "from sklearn.linear_model import LinearRegression\n",
        "from sklearn.metrics import mean_squared_error,mean_absolute_error\n",
        "c=pd.read_csv('/content/Japan_life_expectancy.csv')\n",
        "\n",
        "features=c.drop('Prefecture', axis=1)\n",
        "features=features.drop('Life_expectancy', axis=1)\n",
        "target=c['Life_expectancy']\n",
        "\n",
        "scaler=MinMaxScaler()\n",
        "features_scaled=scaler.fit_transform(features)\n",
        "\n",
        "\n",
        "X_train, X_test, y_train, y_test = train_test_split(features_scaled, target,test_size=0.2, random_state=18)\n",
        "\n",
        "lr=LinearRegression()\n",
        "lr.fit(X_train, y_train)\n",
        "\n",
        "\n",
        "coef=lr.coef_\n",
        "intercept=lr.intercept_\n",
        "\n",
        "y_pred=lr.predict(X_test)\n",
        "\n",
        "\n",
        "mse = mean_squared_error(y_test,y_pred)\n",
        "print(f\"Mean Squared Error: {mse}\")"
      ]
    },
    {
      "cell_type": "code",
      "source": [
        "from sklearn.linear_model import Ridge\n",
        "import numpy as np\n",
        "ridge=Ridge()\n",
        "ridge.fit(features,target)\n",
        "penalty=np.sum(ridge.coef_**2)\n",
        "print(f\"L2 Regularization:{penalty}\")"
      ],
      "metadata": {
        "colab": {
          "base_uri": "https://localhost:8080/"
        },
        "id": "O7CC_v5X4gE_",
        "outputId": "046e3353-417e-4381-aac6-f0fc0b9046ac"
      },
      "execution_count": 16,
      "outputs": [
        {
          "output_type": "stream",
          "name": "stdout",
          "text": [
            "L2 Regularization:0.02058690078860135\n"
          ]
        }
      ]
    },
    {
      "cell_type": "code",
      "source": [
        "from sklearn.linear_model import Lasso\n",
        "lasso = Lasso()\n",
        "lasso.fit(features, target)\n",
        "penalty = np.sum(np.abs(lasso.coef_))\n",
        "print(f\"L1 Regularization: {penalty}\")\n",
        "lasso = Lasso()\n",
        "lasso.fit(X_train, y_train)\n",
        "y_pred = lasso.predict(X_test)\n",
        "mse = mean_squared_error(y_test, y_pred)\n",
        "print(f\"Mean Squared Error with Lasso Regression: {mse}\")\n",
        "y_pred = lasso.predict(X_train)\n",
        "mse = mean_squared_error(y_train, y_pred)"
      ],
      "metadata": {
        "colab": {
          "base_uri": "https://localhost:8080/"
        },
        "id": "ieVOSZRE6CPi",
        "outputId": "4c64940e-3b7e-45c0-ab8c-d1c645772705"
      },
      "execution_count": 17,
      "outputs": [
        {
          "output_type": "stream",
          "name": "stdout",
          "text": [
            "L1 Regularization: 0.021642621843972275\n",
            "Mean Squared Error with Lasso Regression: 0.15107113221329016\n"
          ]
        }
      ]
    }
  ]
}